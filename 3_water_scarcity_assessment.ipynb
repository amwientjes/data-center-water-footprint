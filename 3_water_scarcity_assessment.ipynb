{
 "cells": [
  {
   "cell_type": "markdown",
   "metadata": {},
   "source": [
    "# Water scarcity assessment\n"
   ]
  },
  {
   "cell_type": "markdown",
   "metadata": {},
   "source": [
    "## Setup\n",
    "\n",
    "### Import libraries\n"
   ]
  },
  {
   "cell_type": "code",
   "execution_count": null,
   "metadata": {},
   "outputs": [],
   "source": [
    "from pathlib import Path\n",
    "\n",
    "import pandas as pd\n",
    "from tqdm import tqdm\n",
    "\n",
    "from functions.data_etl.file_io import read_gdf_from_csv\n",
    "from functions.project_settings import (\n",
    "    GLOBAL_WARMING_SCENARIOS,\n",
    "    GLOBAL_WARMING_SCENARIOS_FUTURE,\n",
    "    MOLLWEIDE_CRS,\n",
    "    WGS84_CRS,\n",
    ")\n",
    "from functions.water_scarcity.analysis import (\n",
    "    calculate_monthly_discharge_abstraction,\n",
    "    calculate_water_scarcity,\n",
    "    compute_efr,\n",
    "    find_water_extraction_sites,\n",
    "    get_global_warming_scenario_files,\n",
    "    get_water_scarcity_summary,\n",
    "    repeat_rows_for_months,\n",
    "    summing_dc_water_use_per_extraction_site,\n",
    ")\n",
    "from functions.water_scarcity.pcrglobwb_processing import (\n",
    "    process_abstraction_rasters,\n",
    "    process_discharge_raster,\n",
    "    reproject_rasters_to_crs,\n",
    ")\n"
   ]
  },
  {
   "cell_type": "markdown",
   "metadata": {},
   "source": [
    "## Setting input and output paths\n"
   ]
  },
  {
   "cell_type": "code",
   "execution_count": 2,
   "metadata": {},
   "outputs": [],
   "source": [
    "# Input paths\n",
    "INPUTS_DIR = Path(\"data/inputs/3_water_scarcity/\")\n",
    "WATER_USE_BY_LOCATION = Path(\"data/outputs/2_energy_and_water_use/water_use_dcs_pps_baseline.csv\")\n",
    "\n",
    "# Output paths\n",
    "OUTPUT_DIR = Path(\"data/outputs/3_water_scarcity/\")\n",
    "FIGURE_DIR = Path(\"data/outputs/figures/\")\n",
    "PROCESSED_PCRGLOBWB_DIR = OUTPUT_DIR / \"pcrglobwb_extracted_values/\"\n",
    "INTERMEDIATE_WATER_USE_OUTPUT_PATH = OUTPUT_DIR / \"water_use_by_location_with_water_extraction_locations.csv\""
   ]
  },
  {
   "cell_type": "markdown",
   "metadata": {},
   "source": [
    "## Processing PCRGLOB-WB 2.0 files\n"
   ]
  },
  {
   "cell_type": "markdown",
   "metadata": {},
   "source": [
    "We use PCRGLOBWB discharge, ground and surface water abstraction rasters from [FutureStreams](https://github.com/JoyceBosmans/FutureStreams/tree/main) for various global warming scenarios (historical, 1.5C, 2.0C, 3.2C, 4.5C)\n"
   ]
  },
  {
   "cell_type": "markdown",
   "metadata": {},
   "source": [
    "The rasters are first reprojected to WGS84 using the `gdal.Warp` function from the `rasterio` library and saved in the `outputs` folder.\n"
   ]
  },
  {
   "cell_type": "markdown",
   "metadata": {},
   "source": [
    "### Reprojecting input raster files\n"
   ]
  },
  {
   "cell_type": "code",
   "execution_count": null,
   "metadata": {},
   "outputs": [],
   "source": [
    "# Setting in- and output directories\n",
    "reproj_input_dir = INPUTS_DIR / \"pcrglobwb_processed\"\n",
    "reproj_output_dir = OUTPUT_DIR / \"pcrglobwb_extracted_values/reprojected\"\n",
    "\n",
    "# Get all .tif files in the input directory\n",
    "src_paths = list(Path(reproj_input_dir).glob(\"*.tif\"))\n",
    "\n",
    "# Reproject all .tif files to WGS84\n",
    "reproject_rasters_to_crs(src_paths, reproj_output_dir, crs=WGS84_CRS)"
   ]
  },
  {
   "cell_type": "markdown",
   "metadata": {},
   "source": [
    "The reprojected rasters are then processed and the data is stored in the `outputs` dictionary, divided by global warming targets.\n"
   ]
  },
  {
   "cell_type": "code",
   "execution_count": null,
   "metadata": {},
   "outputs": [],
   "source": [
    "# Get all reprojected rasters\n",
    "reprojected_raster_paths = list(Path(reproj_output_dir).glob(\"*.tif\"))\n",
    "\n",
    "# Sort rasters by type using dictionary comprehension\n",
    "raster_types = {\n",
    "    \"discharge\": [p for p in reprojected_raster_paths if p.name.startswith(\"q\")],\n",
    "    \"surface\": [p for p in reprojected_raster_paths if p.name.startswith(\"sAb\")],\n",
    "    \"groundwater\": [p for p in reprojected_raster_paths if p.name.startswith(\"gAb\")],\n",
    "}\n",
    "\n",
    "# Create pairs of surface and groundwater abstraction rasters\n",
    "abstraction_raster_pairs = [\n",
    "    (s_path, g_path)\n",
    "    for s_path in raster_types[\"surface\"]\n",
    "    for g_path in raster_types[\"groundwater\"]\n",
    "    if s_path.name.split(\"sAb\")[1] == g_path.name.split(\"gAb\")[1]\n",
    "]"
   ]
  },
  {
   "cell_type": "markdown",
   "metadata": {},
   "source": [
    "### Processing reprojected raster files\n"
   ]
  },
  {
   "cell_type": "code",
   "execution_count": null,
   "metadata": {},
   "outputs": [],
   "source": [
    "output_directory_processed = OUTPUT_DIR / \"pcrglobwb_extracted_values23\"\n",
    "\n",
    "# TODO: Instead of handling all rasters separately, flatten them into min, max, median, rasters\n",
    "# per global warming scenario here and use these directly later on\n",
    "\n",
    "# Process all the discharge rasters\n",
    "for discharge_raster in tqdm(raster_types[\"discharge\"]):\n",
    "    print(f\"Processing discharge raster: {discharge_raster}\")\n",
    "    process_discharge_raster(discharge_raster, output_directory_processed)"
   ]
  },
  {
   "cell_type": "code",
   "execution_count": null,
   "metadata": {},
   "outputs": [],
   "source": [
    "# Process all the abstraction rasters\n",
    "for surface_water_abstraction_raster, groundwater_abstraction_raster in tqdm(abstraction_raster_pairs):\n",
    "    print(f\"Processing abstraction rasters: {surface_water_abstraction_raster} and {groundwater_abstraction_raster}\")\n",
    "    process_abstraction_rasters(\n",
    "        surface_water_abstraction_raster, groundwater_abstraction_raster, output_directory_processed\n",
    "    )"
   ]
  },
  {
   "cell_type": "markdown",
   "metadata": {},
   "source": [
    "## Water scarcity modeling\n"
   ]
  },
  {
   "cell_type": "code",
   "execution_count": 13,
   "metadata": {},
   "outputs": [],
   "source": [
    "# Load in data center water use by location data\n",
    "water_use_by_location = read_gdf_from_csv(WATER_USE_BY_LOCATION)"
   ]
  },
  {
   "cell_type": "markdown",
   "metadata": {},
   "source": [
    "### Locating water extraction sites for data centers and power plants.\n",
    "\n",
    "Data centers are assumed to withdraw water consumed from the cell within a 30 kilometer radius where the highest average discharge occurs throughout the year. For power plants, a 10 km buffer is used. However, 30 km is also used for solar and wind plants as they are often located further from water resources\n",
    "\n",
    "This process is performed based on the future dataset as planned data centers locations are included. The identified extraction sites for the operational data centers is then merged for the historical scenario.\n"
   ]
  },
  {
   "cell_type": "code",
   "execution_count": 5,
   "metadata": {},
   "outputs": [],
   "source": [
    "# Set buffer distances (in meters)\n",
    "BUFFER_SIZES = {\n",
    "    \"data_center\": 30_000,\n",
    "    \"Solar\": 30_000,\n",
    "    \"Wind\": 30_000,\n",
    "    \"default\": 10_000,  # Default for other power plants\n",
    "}\n",
    "\n",
    "# Project to a metric crs (Mollweide)\n",
    "water_use_by_location = water_use_by_location.to_crs(MOLLWEIDE_CRS)\n",
    "\n",
    "# Create buffers around the points\n",
    "water_use_by_location[\"geometry\"] = water_use_by_location.apply(\n",
    "    lambda x: x[\"geometry\"].buffer(BUFFER_SIZES.get(x.type, BUFFER_SIZES[\"default\"])), axis=1\n",
    ")\n",
    "\n",
    "# Reproject to WGS84\n",
    "water_use_by_location = water_use_by_location.to_crs(WGS84_CRS)"
   ]
  },
  {
   "cell_type": "markdown",
   "metadata": {},
   "source": [
    "All 5 climate models produced the same place as the highest flow cell within the buffer. Therefore, we run it only using 1 raster file (and hence climate model) to base the water extraction locations on.\n"
   ]
  },
  {
   "cell_type": "code",
   "execution_count": 6,
   "metadata": {},
   "outputs": [
    {
     "name": "stderr",
     "output_type": "stream",
     "text": [
      "Processing locations: 100%|██████████| 38835/38835 [20:08<00:00, 32.12it/s] \n"
     ]
    }
   ],
   "source": [
    "# Get first historical discharge raster\n",
    "discharge_file_hist = next(Path(PROCESSED_PCRGLOBWB_DIR, \"hist\").glob(\"q*\"))\n",
    "\n",
    "# Assign water extraction points to each data center and power plant\n",
    "water_use_by_location = find_water_extraction_sites(water_use_by_location, discharge_file_hist)"
   ]
  },
  {
   "cell_type": "markdown",
   "metadata": {},
   "source": [
    "As the the assignment of water extraction sites takes a long time (20 min), we will save the results to a csv and load it in the future.\n"
   ]
  },
  {
   "cell_type": "code",
   "execution_count": null,
   "metadata": {},
   "outputs": [],
   "source": [
    "# Export to a csv file\n",
    "water_use_by_location.to_csv(INTERMEDIATE_WATER_USE_OUTPUT_PATH, index=False)"
   ]
  },
  {
   "cell_type": "markdown",
   "metadata": {},
   "source": [
    "### Calculating cumulative water use at water extraction sites\n"
   ]
  },
  {
   "cell_type": "code",
   "execution_count": 3,
   "metadata": {},
   "outputs": [],
   "source": [
    "# Import the water use by location data\n",
    "water_use_by_location = read_gdf_from_csv(INTERMEDIATE_WATER_USE_OUTPUT_PATH)"
   ]
  },
  {
   "cell_type": "code",
   "execution_count": 4,
   "metadata": {},
   "outputs": [],
   "source": [
    "# Finding the cumulative data-center-driven water use at extraction sites\n",
    "water_use_by_location = summing_dc_water_use_per_extraction_site(water_use_by_location)"
   ]
  },
  {
   "cell_type": "markdown",
   "metadata": {},
   "source": [
    "### Assigning monthly discharge and abstraction values to extraction sites\n"
   ]
  },
  {
   "cell_type": "code",
   "execution_count": 5,
   "metadata": {},
   "outputs": [],
   "source": [
    "# Repeat each row in for all 12 months so that we can calculate the water scarcity for each month\n",
    "water_use_by_location = repeat_rows_for_months(water_use_by_location)"
   ]
  },
  {
   "cell_type": "code",
   "execution_count": 6,
   "metadata": {},
   "outputs": [
    {
     "name": "stderr",
     "output_type": "stream",
     "text": [
      "Processing files: 100%|██████████| 5/5 [00:11<00:00,  2.22s/it]\n",
      "Processing files: 100%|██████████| 17/17 [00:41<00:00,  2.44s/it]\n",
      "Processing files: 100%|██████████| 15/15 [00:36<00:00,  2.41s/it]\n",
      "Processing files: 100%|██████████| 7/7 [00:15<00:00,  2.24s/it]\n"
     ]
    }
   ],
   "source": [
    "# Process all scenarios\n",
    "discharge_abstraction_by_location = {}\n",
    "for scenario in GLOBAL_WARMING_SCENARIOS:\n",
    "    # Get folder path and files\n",
    "    discharge_files, abstraction_files = get_global_warming_scenario_files(PROCESSED_PCRGLOBWB_DIR / scenario)\n",
    "\n",
    "    # Calculate discharge and abstraction\n",
    "    result = calculate_monthly_discharge_abstraction(\n",
    "        water_use_by_location,\n",
    "        discharge_files,\n",
    "        abstraction_files,\n",
    "        \"lat_water_extraction\",\n",
    "        \"lon_water_extraction\",\n",
    "    )\n",
    "\n",
    "    # Store results\n",
    "    discharge_abstraction_by_location[scenario] = result"
   ]
  },
  {
   "cell_type": "markdown",
   "metadata": {},
   "source": [
    "### Environmental flow requirements\n"
   ]
  },
  {
   "cell_type": "markdown",
   "metadata": {},
   "source": [
    "EFR ratios are assigned based on the VMF method. They are calculated in m3/month based on historical data, and the absolute flow is applied to future scenarios. As a sensitivity analysis, a consistent EFR 60% threshold was also calculated based on historical data and the absolute EFR was applied to future scenarios.\n"
   ]
  },
  {
   "cell_type": "code",
   "execution_count": 7,
   "metadata": {},
   "outputs": [],
   "source": [
    "# Calculate EFRs based on historical data\n",
    "discharge_abstraction_by_location[\"hist\"] = compute_efr(discharge_abstraction_by_location[\"hist\"])\n",
    "\n",
    "# Assign the historical EFR to the future scenarios\n",
    "for scenario in GLOBAL_WARMING_SCENARIOS_FUTURE:\n",
    "    discharge_abstraction_by_location[scenario][\"EFR_m3_month\"] = discharge_abstraction_by_location[\"hist\"][\n",
    "        \"EFR_m3_month\"\n",
    "    ]\n",
    "    # Assign the 0.6 EFR to the future scenarios as a sensitivity analysis\n",
    "    discharge_abstraction_by_location[scenario][\"EFR_m3_month_0p6\"] = discharge_abstraction_by_location[\"hist\"][\n",
    "        \"EFR_m3_month_0p6\"\n",
    "    ]"
   ]
  },
  {
   "cell_type": "markdown",
   "metadata": {},
   "source": [
    "### Water scarcity modeling\n",
    "\n",
    "Data on discharge and abstraction comes from the PCRGLOB-WB 2.0 model\n",
    "\n",
    "Water scarcity is calculated by\n",
    "\n",
    "Water Scarcity Index = $\\frac{\\text{Abstraction}}{(\\text{Discharge} + \\text{Abstraction}) - \\text{EFR}}$\n",
    "\n",
    "An extraction site is considered water-scarce if the index surpasses 1 for at least one month of the year."
   ]
  },
  {
   "cell_type": "markdown",
   "metadata": {},
   "source": [
    "#### Vulnerability\n",
    "\n",
    "A data center is considered vulnerable to water shortages if the abstraction exceeds total water availability, irregardless of EFR. This is calculated as\n",
    "\n",
    "Vulnerability Index = $\\frac{\\text{Abstraction}}{\\text{Discharge} + \\text{Abstraction}}$\n",
    "\n",
    "A data center is considered vulnerable if the index surpasses 1 for at least one month of the year. The months of vulnerability are compared between future and historical scenarios."
   ]
  },
  {
   "cell_type": "markdown",
   "metadata": {},
   "source": [
    "#### Contribution\n",
    "\n",
    "Water scarcity accounting for data center water use is calculated by:\n",
    "\n",
    "$\\frac{\\text{Abstraction} + \\text{Data-center-driven water use}}{(\\text{Discharge} + \\text{Abstraction}) - \\text{EFR}}$\n",
    "\n",
    "Discharge and abstraction data is by monthly mean, so we also calculate average water use per month by dividing by 12.\n"
   ]
  },
  {
   "cell_type": "code",
   "execution_count": 16,
   "metadata": {},
   "outputs": [],
   "source": [
    "# Calculate water scarcity for  scenarios\n",
    "water_scarcity_results = {}\n",
    "for scenario in GLOBAL_WARMING_SCENARIOS:\n",
    "    water_scarcity_results[scenario] = calculate_water_scarcity(\n",
    "        df=discharge_abstraction_by_location[scenario],\n",
    "        abstraction_column=\"abstraction_m3_median\",\n",
    "        discharge_column=\"discharge_m3_median\",\n",
    "        efr_column=\"EFR_m3_month\",\n",
    "        efr_sensitivity_analysis=True,\n",
    "    )"
   ]
  },
  {
   "cell_type": "code",
   "execution_count": 17,
   "metadata": {},
   "outputs": [],
   "source": [
    "# Columns to keep in the summary\n",
    "columns_for_summary = [\n",
    "    \"name\",\n",
    "    \"latitude\",\n",
    "    \"longitude\",\n",
    "    \"tcp_mw\",\n",
    "    \"operational\",\n",
    "    \"power_grid_zone\",\n",
    "    \"dc_cumulative_monthly_water_use_m3\",\n",
    "    \"shared_extraction_site\",\n",
    "    \"power_scenario\",\n",
    "    \"cooling_tech_scenario\",\n",
    "    \"technology_performance_level\",\n",
    "    \"type\",\n",
    "    \"lon_water_extraction\",\n",
    "    \"lat_water_extraction\",\n",
    "    \"geometry\",\n",
    "]"
   ]
  },
  {
   "cell_type": "code",
   "execution_count": 18,
   "metadata": {},
   "outputs": [],
   "source": [
    "# Summarize the water scarcity results\n",
    "for scenario in GLOBAL_WARMING_SCENARIOS:\n",
    "    water_scarcity_results[scenario] = get_water_scarcity_summary(\n",
    "        water_scarcity_results[scenario], columns_for_summary, efr_sensitivity_analysis=True\n",
    "    )"
   ]
  },
  {
   "cell_type": "code",
   "execution_count": 29,
   "metadata": {},
   "outputs": [],
   "source": [
    "# Calculate the number of months of increase in months_WSI between the given scenario and historical scenario\n",
    "for scenario in [\"1_5C\", \"2_0C\", \"3_2C\"]:\n",
    "    water_scarcity_results[scenario][\"months_WSI_increase\"] = (\n",
    "        water_scarcity_results[scenario][\"months_WSI\"] - water_scarcity_results[\"hist\"][\"months_WSI\"]\n",
    "    )\n",
    "    water_scarcity_results[scenario][\"months_WSI_0p6_increase\"] = (\n",
    "        water_scarcity_results[scenario][\"months_WSI_0p6\"] - water_scarcity_results[\"hist\"][\"months_WSI_0p6\"]\n",
    "    )\n",
    "\n",
    "# Calculate the increase in months of vulnerability between the given scenario and historical scenario\n",
    "for scenario in [\"1_5C\", \"2_0C\", \"3_2C\"]:\n",
    "    water_scarcity_results[scenario][\"months_vulnerability_increase\"] = (\n",
    "        water_scarcity_results[scenario][\"months_vulnerability_dc\"]\n",
    "        - water_scarcity_results[\"hist\"][\"months_vulnerability_dc\"]\n",
    "    )\n",
    "    water_scarcity_results[scenario][\"months_vulnerability_0p6_increase\"] = (\n",
    "        water_scarcity_results[scenario][\"months_vulnerability_dc_0p6\"]\n",
    "        - water_scarcity_results[\"hist\"][\"months_vulnerability_dc_0p6\"]\n",
    "    )"
   ]
  },
  {
   "cell_type": "code",
   "execution_count": 31,
   "metadata": {},
   "outputs": [],
   "source": [
    "# Add a column to indicate the scenario\n",
    "for scenario in GLOBAL_WARMING_SCENARIOS:\n",
    "    water_scarcity_results[scenario][\"scenario\"] = scenario"
   ]
  },
  {
   "cell_type": "code",
   "execution_count": null,
   "metadata": {},
   "outputs": [],
   "source": [
    "# Concatenate the results\n",
    "water_scarcity_results_all = pd.concat([water_scarcity_results[scenario] for scenario in GLOBAL_WARMING_SCENARIOS])"
   ]
  },
  {
   "cell_type": "code",
   "execution_count": 36,
   "metadata": {},
   "outputs": [],
   "source": [
    "# Export the results\n",
    "water_scarcity_results_all.to_csv(OUTPUT_DIR / \"water_scarcity_summary_all.csv\", index=False)"
   ]
  },
  {
   "cell_type": "code",
   "execution_count": 25,
   "metadata": {},
   "outputs": [],
   "source": [
    "# Export the water scarcity summary to a csv file\n",
    "for scenario in GLOBAL_WARMING_SCENARIOS:\n",
    "    water_scarcity_results[scenario].to_csv(f\"{OUTPUT_DIR}/water_scarcity_summary_{scenario}.csv\", index=False)"
   ]
  },
  {
   "cell_type": "markdown",
   "metadata": {},
   "source": [
    "Without accounting for clusters, 150 dcs contribute to water scarcity in hist, 218 in 4.5, and 16600 power plants.\n",
    "After accounting for clusters, 432 dcs contribute in hist, 573 in 4.5. 16665 for power plants.\n",
    "For data centers, their cumulative impact in an area matters a lot.\n"
   ]
  }
 ],
 "metadata": {
  "kernelspec": {
   "display_name": ".venv",
   "language": "python",
   "name": "python3"
  },
  "language_info": {
   "codemirror_mode": {
    "name": "ipython",
    "version": 3
   },
   "file_extension": ".py",
   "mimetype": "text/x-python",
   "name": "python",
   "nbconvert_exporter": "python",
   "pygments_lexer": "ipython3",
   "version": "3.13.2"
  }
 },
 "nbformat": 4,
 "nbformat_minor": 2
}
